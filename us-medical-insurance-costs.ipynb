{
 "cells": [
  {
   "cell_type": "markdown",
   "metadata": {},
   "source": [
    "# U.S. Medical Insurance Costs"
   ]
  },
  {
   "cell_type": "markdown",
   "metadata": {},
   "source": [
    "Hello everyone, \n",
    "My name is Davi and this is my first code published!"
   ]
  },
  {
   "cell_type": "code",
   "execution_count": 2,
   "metadata": {},
   "outputs": [],
   "source": [
    "import csv"
   ]
  },
  {
   "cell_type": "code",
   "execution_count": 3,
   "metadata": {},
   "outputs": [],
   "source": [
    "list_of_ages = []\n",
    "with open('insurance.csv', newline = '') as ages_csv:\n",
    "    ages_reader = csv.DictReader(ages_csv)\n",
    "    for row in ages_reader:\n",
    "        list_of_ages.append(row['age'])"
   ]
  },
  {
   "cell_type": "code",
   "execution_count": 10,
   "metadata": {},
   "outputs": [],
   "source": [
    "def calculate_average(lst):\n",
    "    total_age = 0\n",
    "    for row in lst:\n",
    "        inte_row = int(row)\n",
    "        total_age +=  inte_row\n",
    "    size_of_list = len(lst)\n",
    "    average = total_age/size_of_list\n",
    "    return average"
   ]
  },
  {
   "cell_type": "code",
   "execution_count": 11,
   "metadata": {},
   "outputs": [
    {
     "name": "stdout",
     "output_type": "stream",
     "text": [
      "39.20702541106129\n"
     ]
    }
   ],
   "source": [
    "print(calculate_average(list_of_ages))"
   ]
  },
  {
   "cell_type": "code",
   "execution_count": 14,
   "metadata": {},
   "outputs": [],
   "source": [
    "list_of_region = []\n",
    "with open('insurance.csv', newline = '') as region_csv:\n",
    "    region_reader = csv.DictReader(region_csv)\n",
    "    for row in region_reader:\n",
    "        list_of_region.append(row['region'])"
   ]
  },
  {
   "cell_type": "code",
   "execution_count": 29,
   "metadata": {},
   "outputs": [],
   "source": [
    "def analyze_region(lst):\n",
    "    northeast = 0\n",
    "    northwest = 0\n",
    "    southeast = 0\n",
    "    southwest = 0\n",
    "    for row in lst:\n",
    "        if row == 'northeast':\n",
    "            northeast += 1\n",
    "        elif row == 'northwest':\n",
    "            northwest += 1\n",
    "        elif row == 'southeast':\n",
    "            southeast += 1\n",
    "        else:\n",
    "            southwest += 1\n",
    "    return northeast, northwest, southeast, southwest"
   ]
  },
  {
   "cell_type": "code",
   "execution_count": 30,
   "metadata": {},
   "outputs": [
    {
     "name": "stdout",
     "output_type": "stream",
     "text": [
      "(324, 325, 364, 325)\n"
     ]
    }
   ],
   "source": [
    "print(analyze_region(list_of_region))"
   ]
  },
  {
   "cell_type": "code",
   "execution_count": 32,
   "metadata": {},
   "outputs": [],
   "source": [
    "list_of_sex = []\n",
    "with open('insurance.csv', newline = '') as sex_csv:\n",
    "    sex_reader = csv.DictReader(sex_csv)\n",
    "    for row in sex_reader:\n",
    "        list_of_sex.append(row['sex'])"
   ]
  },
  {
   "cell_type": "code",
   "execution_count": 33,
   "metadata": {},
   "outputs": [],
   "source": [
    "def count_sex(lst):\n",
    "    male = 0\n",
    "    female = 0\n",
    "    for row in lst:\n",
    "        if row == 'male':\n",
    "            male += 1\n",
    "        else:\n",
    "            female += 1\n",
    "    return male, female"
   ]
  },
  {
   "cell_type": "code",
   "execution_count": 34,
   "metadata": {},
   "outputs": [
    {
     "name": "stdout",
     "output_type": "stream",
     "text": [
      "(676, 662)\n"
     ]
    }
   ],
   "source": [
    "print(count_sex(list_of_sex))"
   ]
  },
  {
   "cell_type": "code",
   "execution_count": 35,
   "metadata": {},
   "outputs": [],
   "source": [
    "list_of_charges = []\n",
    "with open('insurance.csv', newline = '') as charges_csv:\n",
    "    charges_reader = csv.DictReader(charges_csv)\n",
    "    for row in charges_reader:\n",
    "        list_of_charges.append(row['charges'])"
   ]
  },
  {
   "cell_type": "code",
   "execution_count": 36,
   "metadata": {},
   "outputs": [],
   "source": [
    "charges_and_sex = list(zip(list_of_sex, list_of_charges))"
   ]
  },
  {
   "cell_type": "code",
   "execution_count": 83,
   "metadata": {},
   "outputs": [],
   "source": [
    "def analyze_charges_by_sex(lst):\n",
    "    charges_male = 0\n",
    "    charges_female = 0\n",
    "    for item in lst:\n",
    "        if item[0] == 'male':\n",
    "            charges_male += float(item[1])\n",
    "        elif item[0] == 'female':\n",
    "            charges_female += float(item[1])\n",
    "    return round(charges_male), round(charges_female)"
   ]
  },
  {
   "cell_type": "code",
   "execution_count": 84,
   "metadata": {
    "scrolled": true
   },
   "outputs": [
    {
     "name": "stdout",
     "output_type": "stream",
     "text": [
      "(9434764, 8321061)\n"
     ]
    }
   ],
   "source": [
    "print(analyze_charges_by_sex(charges_and_sex))"
   ]
  },
  {
   "cell_type": "code",
   "execution_count": 89,
   "metadata": {},
   "outputs": [],
   "source": [
    "total_charges = analyze_charges_by_sex(charges_and_sex)\n",
    "count_of_sex = count_sex(list_of_sex)"
   ]
  },
  {
   "cell_type": "code",
   "execution_count": 91,
   "metadata": {},
   "outputs": [
    {
     "name": "stdout",
     "output_type": "stream",
     "text": [
      "13956.75147928994\n",
      "12569.578549848942\n"
     ]
    }
   ],
   "source": [
    "average_male = total_charges[0]/count_of_sex[0]\n",
    "average_female = total_charges[1]/count_of_sex[1]\n",
    "print(average_male)\n",
    "print(average_female)"
   ]
  }
 ],
 "metadata": {
  "kernelspec": {
   "display_name": "Python 3",
   "language": "python",
   "name": "python3"
  },
  "language_info": {
   "codemirror_mode": {
    "name": "ipython",
    "version": 3
   },
   "file_extension": ".py",
   "mimetype": "text/x-python",
   "name": "python",
   "nbconvert_exporter": "python",
   "pygments_lexer": "ipython3",
   "version": "3.8.8"
  }
 },
 "nbformat": 4,
 "nbformat_minor": 4
}
